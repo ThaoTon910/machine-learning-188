{
 "cells": [
  {
   "cell_type": "code",
   "execution_count": 51,
   "metadata": {
    "pycharm": {
     "is_executing": true
    }
   },
   "outputs": [],
   "source": [
    "%matplotlib inline"
   ]
  },
  {
   "cell_type": "markdown",
   "metadata": {},
   "source": [
    "## Home Assigment 1, part 1 (due 09/09/2021)\n",
    "\n",
    "### Linear Regression \n",
    "\n",
    "In this home assigment you will implement Linear Regression \n",
    "by \n",
    "<ol>\n",
    "<li> Gradient Descent</li>\n",
    "<li> Normal Equations</li>\n",
    "</ol>    \n",
    "    \n",
    "You will work with the diabetes database, (see https://scikit-learn.org/stable /datasets/toy_dataset.html#diabetes-dataset for the description). In the following tasks use only one feature.<br> \n",
    "\n",
    "You should submit the following:\n",
    "<ol>\n",
    "<li> This notebook with implementation of the following functions:</li>\n",
    "    <ol>        \n",
    "    <li> myfit, which calculates the optimal parameter vector iteratively, θ̄gd.</li>        \n",
    "    <li> myfitNormalEquations, which calculates the optimal parameter vector analytically, θ̄ne.</li>        \n",
    "    <li> mypredict, which predicts y from x and θ̄gd.</li>        \n",
    "    </ol>\n",
    "(look at the lines 36-56 for details)\n",
    "        <li> A plot of norm(θ̄ne - θ̄gd[i]) as a function of iteration, i, in Gradient Descent, where θ̄ne is the optimal solution by myfitNormalEquations, and θ̄gd[i] is the parameter vector at the i-th iteration of 'myfit'. If norm(θ̄ne - θ̄gd[i]) does not go to zero, tune the learning rate and the number of iterations until it does go to zero (1e-5 is good enough).\n",
    "    </li>\n",
    "<li> A plot of the loss, J(θ), as a function of iteration, i. See the lecture notes regarding J(θ). Add legend to the plot showing the value of α and the corresponding iteration number at the convergence (e.g., 'α=0.03, iter=52'), which is when norm(θ̄ne - θ) is around zero.</li> \n",
    "<li> A scatter plot of diabetes_y_train vs diabetes_x_train with blue dotes, and three linear regression lines in different colors for θ̄gd at 3 different stages of Gradient Descent: beginning, middle, 'end' on the same scatter plot. <br>\n",
    "    Add legend mentioning 'beginning', 'middle', 'end'. \n",
    "<li> Explain briefly your observations in '5' in the next cell after the cell showing the plots.<br>\n",
    "    (See https://www.markdownguide.org/basic-syntax for the markdown syntax.) \n",
    "</ol>    \n",
    "\n",
    "\n"
   ]
  },
  {
   "cell_type": "code",
   "execution_count": 52,
   "metadata": {},
   "outputs": [
    {
     "name": "stdout",
     "output_type": "stream",
     "text": [
      "Automatically created module for IPython interactive environment\n"
     ]
    }
   ],
   "source": [
    "print(__doc__)\n",
    "\n",
    "\n",
    "# Code source: Jaques Grobler\n",
    "# License: BSD 3 clause"
   ]
  },
  {
   "cell_type": "code",
   "execution_count": 53,
   "metadata": {},
   "outputs": [],
   "source": [
    "import matplotlib.pyplot as plt\n",
    "import numpy as np\n",
    "from sklearn import datasets, linear_model\n",
    "from sklearn.metrics import mean_squared_error, r2_score\n",
    "\n",
    "# Load the diabetes dataset\n",
    "diabetes_X, diabetes_y = datasets.load_diabetes(return_X_y=True)"
   ]
  },
  {
   "cell_type": "code",
   "execution_count": 54,
   "metadata": {},
   "outputs": [],
   "source": [
    "# Use only one feature\n",
    "diabetes_X = diabetes_X[:, np.newaxis, 2]"
   ]
  },
  {
   "cell_type": "code",
   "execution_count": 55,
   "metadata": {},
   "outputs": [],
   "source": [
    "# Split the data into training/testing sets\n",
    "diabetes_X_train = diabetes_X[:-20]\n",
    "diabetes_X_test = diabetes_X[-20:]\n",
    "\n",
    "# Split the targets into training/testing sets\n",
    "diabetes_y_train = diabetes_y[:-20]\n",
    "diabetes_y_test = diabetes_y[-20:]\n",
    "\n",
    "# Create linear regression object\n",
    "regr = linear_model.LinearRegression()\n",
    "\n",
    "# Train the model using the training sets\n",
    "regr.fit(diabetes_X_train, diabetes_y_train)\n",
    "\n",
    "# Make predictions using the testing set\n",
    "diabetes_y_pred = regr.predict(diabetes_X_test)"
   ]
  },
  {
   "cell_type": "code",
   "execution_count": 56,
   "metadata": {},
   "outputs": [
    {
     "name": "stdout",
     "output_type": "stream",
     "text": [
      "Mean squared error: 2548.07\n"
     ]
    },
    {
     "data": {
      "image/png": "[encoded data removed]",
      "text/plain": [
       "<Figure size 432x288 with 1 Axes>"
      ]
     },
     "metadata": {},
     "output_type": "display_data"
    }
   ],
   "source": [
    "def myfitNormalEquations(diabetes_X_train, diabetes_y_train):\n",
    "    X = diabetes_X_train\n",
    "    y = diabetes_y_train\n",
    "    one = np.ones((X.shape[0], 1))\n",
    "    Xbar = np.concatenate((one, X), axis = 1)\n",
    "\n",
    "    # Calculating weights of the fitting line \n",
    "    A = np.dot(Xbar.T, Xbar)\n",
    "    b = np.dot(Xbar.T, y)\n",
    "    theta = np.dot(np.linalg.pinv(A), b)\n",
    "    return theta\n",
    "\n",
    "theta_norm = myfitNormalEquations(diabetes_X_train, diabetes_y_train)\n",
    "theta_norm = theta_norm.reshape(len(theta_norm), 1)\n",
    "\n",
    "def mypredict(X_test, theta):\n",
    "    X = X_test\n",
    "    one = np.ones((X.shape[0], 1))\n",
    "    Xbar = np.concatenate((one, X), axis = 1)\n",
    "    return np.dot( Xbar, theta)\n",
    "    \n",
    "diabetes_y_pred_norm = mypredict(diabetes_X_test, theta_norm)\n",
    "\n",
    "\n",
    "# The mean squared error\n",
    "print('Mean squared error: %.2f'\n",
    "      % mean_squared_error(diabetes_y_test, diabetes_y_pred_norm))\n",
    "\n",
    "\n",
    "# Plot outputs\n",
    "plt.scatter(diabetes_X_test, diabetes_y_test,  color='black')\n",
    "plt.plot(diabetes_X_test, diabetes_y_pred_norm, color='blue', linewidth=3)\n",
    "\n",
    "plt.xticks(())\n",
    "plt.yticks(())\n",
    "\n",
    "plt.show()"
   ]
  },
  {
   "cell_type": "code",
   "execution_count": 57,
   "metadata": {},
   "outputs": [
    {
     "name": "stdout",
     "output_type": "stream",
     "text": [
      "Mean squared error: 2548.07\n"
     ]
    },
    {
     "data": {
      "image/png": "[encoded data removed]",
      "text/plain": [
       "<Figure size 432x288 with 1 Axes>"
      ]
     },
     "metadata": {},
     "output_type": "display_data"
    }
   ],
   "source": [
    "# implement function 'myfit' using the Batched Gradient Descent Algorithm,\n",
    "# myfit accepts three argiments diabetes_X_train, diabetes_y_train,\n",
    "# and learnig rate, α. It returns the optimal parameter vector, θ̄gd\n",
    "# Initialize θgd to a random vector.\n",
    "\n",
    "# run your function to find the optimal parameter vector:\n",
    "##### θ̄gd = myfit(diabetes_X_train, diabetes_y_train, α)\n",
    "\n",
    "# implement function 'myfitNormalEquations', see the lecture notes. \n",
    "# myfitNormalEquations accepts two argiments diabetes_X_train, \n",
    "# diabetes_y_train. It returns the optimal parameter vector, θ̄ne\n",
    "##### θ̄ne = myfitNormalEquations(diabetes_X_train, diabetes_y_train)\n",
    "\n",
    "# implement function 'mypredict', (we denoted it by h(x) in the class)\n",
    "###\n",
    "### Reminder: h(x, θ) = \\sumᵢ xᵢ*θᵢ for i in [0, K], and x0 = 1\n",
    "###\n",
    "# mypredict accepts one argiment diabetes_X_test. It returns the \n",
    "# predicetd values for y,  mydiabetes_y_pred\n",
    "# run your function mypredict\n",
    "##### mydiabetes_y_pred = mypredict(diabetes_X_test)\n",
    "costs = []\n",
    "theta_diff = []\n",
    "thetas = []\n",
    "def myfit(diabetes_X_train, diabetes_y_train, learning_rate):\n",
    "    X = diabetes_X_train\n",
    "    one = np.ones((X.shape[0], 1))\n",
    "    Xbar = np.concatenate((one, X), axis = 1)\n",
    "    m = Xbar.shape[0] #row = # number samples\n",
    "    N = Xbar.shape[1] #column # number of features\n",
    "\n",
    "    y = diabetes_y_train.reshape(m, 1) # y missing second dimension, force adding it\n",
    "\n",
    "\n",
    "    theta = np.random.rand(N, 1)# * 0.01\n",
    "    iterations = 40000\n",
    "\n",
    "    for i in range(iterations):\n",
    "        yhat = np.dot(Xbar, theta)\n",
    "        temp = yhat - y\n",
    "        theta_gd = 1 / m * np.dot(Xbar.T, temp)\n",
    "        theta = theta - learning_rate * theta_gd\n",
    "        cost = 1 / m * np.dot(temp.T, temp)\n",
    "        costs.append(cost)\n",
    "        \n",
    "        diff = np.linalg.norm(theta_norm - theta)\n",
    "        theta_diff.append(diff)\n",
    "        if i == 0:\n",
    "            thetas.append(theta)\n",
    "        elif i == iterations / 2: \n",
    "            thetas.append(theta)\n",
    "            \n",
    "    return theta\n",
    "\n",
    "learning_rate = 0.1\n",
    "theta = myfit(diabetes_X_train, diabetes_y_train, learning_rate)\n",
    "\n",
    "diabetes_y_pred = mypredict(diabetes_X_test, theta)\n",
    "diabetes_y_begin_pred = mypredict(diabetes_X_test, thetas[0])\n",
    "diabetes_y_mid_pred = mypredict(diabetes_X_test, thetas[1])\n",
    "\n",
    "# The mean squared error\n",
    "print('Mean squared error: %.2f'\n",
    "      % mean_squared_error(diabetes_y_test, diabetes_y_pred_norm))\n",
    "\n",
    "# Plot outputs\n",
    "plt.scatter(diabetes_X_test, diabetes_y_test,  color='black')\n",
    "plt.plot(diabetes_X_test, diabetes_y_pred_norm, color='blue', linewidth=3)\n",
    "\n",
    "plt.xticks(())\n",
    "plt.yticks(())\n",
    "\n",
    "plt.show()"
   ]
  },
  {
   "cell_type": "code",
   "execution_count": 58,
   "metadata": {
    "scrolled": true
   },
   "outputs": [
    {
     "data": {
      "image/png": "[encoded data removed]",
      "text/plain": [
       "<Figure size 432x288 with 1 Axes>"
      ]
     },
     "metadata": {
      "needs_background": "light"
     },
     "output_type": "display_data"
    },
    {
     "data": {
      "image/png": "[encoded data removed]",
      "text/plain": [
       "<Figure size 432x288 with 1 Axes>"
      ]
     },
     "metadata": {
      "needs_background": "light"
     },
     "output_type": "display_data"
    }
   ],
   "source": [
    "# Plot norm #############################################\n",
    "plt.scatter(range(len(theta_diff)), theta_diff,  color='red')\n",
    "\n",
    "plt.xticks(())\n",
    "plt.yticks(())\n",
    "plt.yscale('linear')\n",
    "plt.xscale('linear')\n",
    "plt.title('Norm(theta_ne - theta_gd) vs iterations, learning_rate = {}'.format(learning_rate))\n",
    "plt.xlabel(\"# iterations\")\n",
    "plt.ylabel(\"Norm(theta_ne - theta_gd) \")\n",
    "plt.grid(True)\n",
    "plt.show()\n",
    "#############################################\n",
    "\n",
    "# Plot costs #############################################\n",
    "plt.scatter(range(len(costs)), costs,  color='blue')\n",
    "plt.xticks(())\n",
    "plt.yticks(())\n",
    "plt.yscale('linear')\n",
    "plt.xscale('linear')\n",
    "plt.title('J(theta) vs iterations, learning_rate = {}'.format(learning_rate))\n",
    "plt.xlabel(\"# iterations\")\n",
    "plt.ylabel(\"J(theta) \")\n",
    "plt.grid(True)\n",
    "plt.show()"
   ]
  },
  {
   "cell_type": "code",
   "execution_count": 59,
   "metadata": {},
   "outputs": [
    {
     "name": "stdout",
     "output_type": "stream",
     "text": [
      "Mean squared error: 2548.20\n"
     ]
    },
    {
     "data": {
      "image/png": "[encoded data removed]",
      "text/plain": [
       "<Figure size 432x288 with 1 Axes>"
      ]
     },
     "metadata": {
      "needs_background": "light"
     },
     "output_type": "display_data"
    }
   ],
   "source": [
    "# The mean squared error\n",
    "print('Mean squared error: %.2f'\n",
    "      % mean_squared_error(diabetes_y_test, diabetes_y_pred))\n",
    "\n",
    "\n",
    "# Plot outputs\n",
    "plt.scatter(diabetes_X_test, diabetes_y_test,  color='black', label='test data')\n",
    "plt.plot(diabetes_X_test, diabetes_y_pred, color='blue', linewidth=5, label='end')\n",
    "plt.plot(diabetes_X_test, diabetes_y_begin_pred, color='green', linewidth=2, label='begin')\n",
    "plt.plot(diabetes_X_test, diabetes_y_mid_pred, color='red', linewidth=1, label='mid')\n",
    "\n",
    "\n",
    "\n",
    "\n",
    "plt.xticks(())\n",
    "plt.yticks(())\n",
    "plt.legend(loc=\"upper left\")\n",
    "plt.yscale('linear')\n",
    "plt.xscale('linear')\n",
    "plt.title('3 different theta_gd vs iterations, learning_rate = {}'.format(learning_rate))\n",
    "plt.xlabel(\"x\")\n",
    "plt.ylabel(\"y\")\n",
    "plt.show()\n",
    "\n",
    "# add your plots here"
   ]
  },
  {
   "cell_type": "markdown",
   "metadata": {},
   "source": [
    "## Observation\n",
    "\n",
    "### Iteration explaination\n",
    "From graph, when plotting the loss (J) vs the interations. As more iterations increase, the loss value goes down as we are closer to the local optimal point. \n",
    "\n",
    "Normal equation: calculate the  value using the equation, but it applies for the small scale. With the large scale, it is hard to calculate in the computer.\n",
    "\n",
    "Gradient descent is a optimization method to find the local minimal via going through multiple iterations.\n",
    "\n",
    "When observing the norm plot, the graph shows the line approach to zero. In order words, the experiment value of theta is very close to the theoretical value calculating by the norm method.\n",
    "\n",
    "For the loss plot, the graph do not show that the loss value decrease over iterations, and eventually stablize after sometimes.\n",
    "\n",
    "For Graph below, α=0.03, iter=52, the loss value after 52 iterations is the same as the above graph when learning rate is 0.1 and iterations is 40000. This means with this learning rate of 0.03, we only need to iterate through the process 52 times to get to the optimal value.\n"
   ]
  },
  {
   "cell_type": "code",
   "execution_count": 60,
   "metadata": {},
   "outputs": [
    {
     "name": "stdout",
     "output_type": "stream",
     "text": [
      "Mean squared error: 2548.07\n"
     ]
    }
   ],
   "source": [
    "\n",
    "# Trying 'α=0.03, iter=52', A plot of the loss, J(θ), as a function of iteration, i. \n",
    "#See the lecture notes regarding J(θ). \n",
    "# Add legend to the plot showing the value of α and the corresponding iteration number at\n",
    "#the convergence (e.g., 'α=0.03, iter=52'), which is when norm(θ̄ne - θ) is around zero.###########\n",
    "\n",
    "\n",
    "costs = []\n",
    "theta_diff = []\n",
    "thetas = []\n",
    "def myfit(diabetes_X_train, diabetes_y_train, learning_rate):\n",
    "    X = diabetes_X_train\n",
    "    one = np.ones((X.shape[0], 1))\n",
    "    Xbar = np.concatenate((one, X), axis = 1)\n",
    "    m = Xbar.shape[0] #row = # number samples\n",
    "    N = Xbar.shape[1] #column # number of features\n",
    "\n",
    "    y = diabetes_y_train.reshape(m, 1) # y missing second dimension, force adding it\n",
    "\n",
    "\n",
    "    theta = np.random.rand(N, 1)# * 0.01\n",
    "    iterations = 52\n",
    "\n",
    "    for i in range(iterations):\n",
    "        yhat = np.dot(Xbar, theta)\n",
    "        temp = yhat - y\n",
    "        theta_gd = 1 / m * np.dot(Xbar.T, temp)\n",
    "        theta = theta - learning_rate * theta_gd\n",
    "        cost = 1 / m * np.dot(temp.T, temp)\n",
    "        costs.append(cost)\n",
    "        \n",
    "        diff = np.linalg.norm(theta_norm - theta)\n",
    "        theta_diff.append(diff)\n",
    "        if i == 0:\n",
    "            thetas.append(theta)\n",
    "        elif i == iterations / 2: \n",
    "            thetas.append(theta)\n",
    "            \n",
    "    return theta\n",
    "\n",
    "learning_rate = 0.03\n",
    "theta = myfit(diabetes_X_train, diabetes_y_train, learning_rate)\n",
    "\n",
    "diabetes_y_pred = mypredict(diabetes_X_test, theta)\n",
    "diabetes_y_begin_pred = mypredict(diabetes_X_test, thetas[0])\n",
    "diabetes_y_mid_pred = mypredict(diabetes_X_test, thetas[1])\n",
    "\n",
    "# The mean squared error\n",
    "print('Mean squared error: %.2f'\n",
    "      % mean_squared_error(diabetes_y_test, diabetes_y_pred_norm))"
   ]
  },
  {
   "cell_type": "code",
   "execution_count": 61,
   "metadata": {},
   "outputs": [
    {
     "data": {
      "image/png": "[encoded data removed]",
      "text/plain": [
       "<Figure size 432x288 with 1 Axes>"
      ]
     },
     "metadata": {
      "needs_background": "light"
     },
     "output_type": "display_data"
    },
    {
     "data": {
      "image/png": "[encoded data removed]",
      "text/plain": [
       "<Figure size 432x288 with 1 Axes>"
      ]
     },
     "metadata": {
      "needs_background": "light"
     },
     "output_type": "display_data"
    }
   ],
   "source": [
    "#'α=0.03, iter=52' \n",
    "# Plot norm #############################################\n",
    "plt.scatter(range(len(theta_diff)), theta_diff,  color='red')\n",
    "\n",
    "plt.xticks(())\n",
    "plt.yticks(())\n",
    "plt.yscale('linear')\n",
    "plt.xscale('linear')\n",
    "plt.title('Norm(theta_ne - theta_gd) vs iterations, learning_rate = {}'.format(learning_rate))\n",
    "plt.xlabel(\"# iterations\")\n",
    "plt.ylabel(\"Norm(theta_ne - theta_gd) \")\n",
    "plt.grid(True)\n",
    "plt.show()\n",
    "#############################################\n",
    "\n",
    "# Plot costs #############################################\n",
    "plt.scatter(range(len(costs)), costs,  color='blue')\n",
    "plt.xticks(())\n",
    "plt.yticks(())\n",
    "plt.yscale('linear')\n",
    "plt.xscale('linear')\n",
    "plt.title('J(theta) vs iterations, learning_rate = {}'.format(learning_rate))\n",
    "plt.xlabel(\"# iterations\")\n",
    "plt.ylabel(\"J(theta) \")\n",
    "plt.grid(True)\n",
    "plt.show()"
   ]
  },
  {
   "cell_type": "code",
   "execution_count": null,
   "metadata": {},
   "outputs": [],
   "source": [
    "\n"
   ]
  }
 ],
 "metadata": {
  "kernelspec": {
   "display_name": "Python 3 (ipykernel)",
   "language": "python",
   "name": "python3"
  },
  "language_info": {
   "codemirror_mode": {
    "name": "ipython",
    "version": 3
   },
   "file_extension": ".py",
   "mimetype": "text/x-python",
   "name": "python",
   "nbconvert_exporter": "python",
   "pygments_lexer": "ipython3",
   "version": "3.9.6"
  }
 },
 "nbformat": 4,
 "nbformat_minor": 1
}